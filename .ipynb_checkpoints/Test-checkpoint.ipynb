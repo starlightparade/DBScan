{
 "cells": [
  {
   "cell_type": "code",
   "execution_count": 48,
   "metadata": {},
   "outputs": [
    {
     "name": "stdout",
     "output_type": "stream",
     "text": [
      "[[1.41421356]]\n"
     ]
    }
   ],
   "source": [
    "from sklearn import metrics\n",
    "from scipy.spatial import distance\n",
    "import numpy as np\n",
    "import math\n",
    "import itertools\n",
    "\n",
    "temp_point = np.array([[1,1]])\n",
    "\n",
    "point = np.array([[2,2]])\n",
    "\n",
    "dist = metrics.pairwise.euclidean_distances(temp_point, point)\n",
    "#dist= math.sqrt(dist)\n",
    "\n",
    "\n",
    "print(dist)\n",
    "# c = [''.join(p) for p in b]\n"
   ]
  },
  {
   "cell_type": "code",
   "execution_count": null,
   "metadata": {},
   "outputs": [],
   "source": [
    "temp = []\n",
    "xlist = []\n",
    "\n",
    "for y in range(0,10):\n",
    "    xlist.append(y)\n",
    "    \n",
    "for x in xlist:\n",
    "    temp.append(x)\n",
    "\n",
    "# print(dist)\n",
    "a=[2,3,5,7,11]\n",
    "b = sum([list(itertools.combinations(a, i)) for i in range(len(a)+1)], [])"
   ]
  },
  {
   "cell_type": "code",
   "execution_count": 9,
   "metadata": {},
   "outputs": [
    {
     "data": {
      "text/plain": [
       "Counter({'a': 3, 'b': 2, 'c': 2, 'd': 1})"
      ]
     },
     "execution_count": 9,
     "metadata": {},
     "output_type": "execute_result"
    }
   ],
   "source": [
    "from collections import Counter\n",
    "\n",
    "a = [['a','b'],['a','b','c'],['a','c','d']]\n",
    "b = [['a','b']]\n",
    "Counter(tuple(item) for item in a)\n",
    "Counter(x for sublist in a for x in sublist)\n"
   ]
  },
  {
   "cell_type": "code",
   "execution_count": 11,
   "metadata": {},
   "outputs": [
    {
     "data": {
      "text/plain": [
       "False"
      ]
     },
     "execution_count": 11,
     "metadata": {},
     "output_type": "execute_result"
    }
   ],
   "source": [
    "\n",
    "isinstance(a[0][0], list)"
   ]
  },
  {
   "cell_type": "code",
   "execution_count": 18,
   "metadata": {},
   "outputs": [
    {
     "name": "stdout",
     "output_type": "stream",
     "text": [
      "[1]\n"
     ]
    }
   ],
   "source": [
    "a = [1,2]\n",
    "b = 2\n",
    "for y in b:\n",
    "    a.remove(b)\n",
    "print(a)"
   ]
  },
  {
   "cell_type": "code",
   "execution_count": null,
   "metadata": {},
   "outputs": [],
   "source": []
  }
 ],
 "metadata": {
  "kernelspec": {
   "display_name": "Python 3",
   "language": "python",
   "name": "python3"
  },
  "language_info": {
   "codemirror_mode": {
    "name": "ipython",
    "version": 3
   },
   "file_extension": ".py",
   "mimetype": "text/x-python",
   "name": "python",
   "nbconvert_exporter": "python",
   "pygments_lexer": "ipython3",
   "version": "3.7.0"
  }
 },
 "nbformat": 4,
 "nbformat_minor": 2
}
